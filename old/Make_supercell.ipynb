{
 "cells": [
  {
   "cell_type": "code",
   "execution_count": 1,
   "metadata": {},
   "outputs": [],
   "source": [
    "import numpy as np"
   ]
  },
  {
   "cell_type": "code",
   "execution_count": 2,
   "metadata": {},
   "outputs": [],
   "source": [
    "def matrix_to_string(matrix):\n",
    "    # Converting each row of the matrix to a string\n",
    "    row_strings = [\" \".join(f\"{value:.16f}\" for value in row) for row in matrix]\n",
    "\n",
    "    # Joining all row strings with a newline character\n",
    "    return \"\\n\".join(row_strings)"
   ]
  },
  {
   "cell_type": "code",
   "execution_count": 3,
   "metadata": {},
   "outputs": [],
   "source": [
    "def string_to_matrix(string):\n",
    "    string = [list(map(float, row.split())) for row in string.strip().split('\\n')]\n",
    "\n",
    "    # Converting the data to a NumPy matrix\n",
    "    return np.array(string)"
   ]
  },
  {
   "cell_type": "code",
   "execution_count": 4,
   "metadata": {},
   "outputs": [],
   "source": [
    "def cell_expand(primitive_lattice):\n",
    "    transformation_matrix = np.array([\n",
    "    [1, 0, 0],\n",
    "    [0, 1, 0],\n",
    "    [0, 0, 2]\n",
    "    ])\n",
    "    #def expand_lattice_param(primitive_lattice, transformation_matrix):\n",
    "    primitive_lattice = string_to_matrix(primitive_lattice)\n",
    "\n",
    "    # Performing the matrix multiplication\n",
    "    lattice_basis = np.dot(transformation_matrix, primitive_lattice)\n",
    "\n",
    "    # Convert the matrix to a string in the desired format\n",
    "    formatted_string = matrix_to_string(lattice_basis)\n",
    "\n",
    "    print(formatted_string)\n",
    "    return lattice_basis\n",
    "\n"
   ]
  },
  {
   "cell_type": "code",
   "execution_count": 5,
   "metadata": {},
   "outputs": [],
   "source": [
    "# Transformation matrix t\n",
    "transformation_matrix = np.array([\n",
    "    [1, 0, 0],\n",
    "    [0, 1, 0],\n",
    "    [0, 0, 2]\n",
    "])\n",
    "\n",
    "def transformation(data_str):\n",
    "    # Splitting the data into rows, separating labels from numerical data\n",
    "    labels, numerical_data = [], []\n",
    "    for row in data_str.strip().split('\\n'):\n",
    "        elements = row.split()\n",
    "        labels.append(elements[0])  # Extract label\n",
    "        numerical_data.append(list(map(float, elements[1:])))  # Convert remaining elements to floats\n",
    "\n",
    "    # Converting the numerical data to a NumPy matrix\n",
    "    matrix = np.array(numerical_data)\n",
    "\n",
    "    # Calculating the inverse of the transformation matrix\n",
    "    inverse_t = np.linalg.inv(transformation_matrix)\n",
    "\n",
    "    # Performing the matrix multiplication\n",
    "    result = np.dot(inverse_t, matrix.T).T\n",
    "\n",
    "    # Transpose back and reattach the labels\n",
    "    result_labeled = np.column_stack((labels, result))\n",
    "    return result, result_labeled\n",
    "\n",
    "def shifting(matrix):\n",
    "    # Apply the first transformation (add 0.5 to the third column)\n",
    "    transformed_matrix_z = np.copy(matrix)\n",
    "    transformed_matrix_z[:, 2] += 0.5  # Adjusted index for mixed type\n",
    "\n",
    "    # Intertwine the rows from the first transformation\n",
    "    intertwined_matrix_z = np.vstack([np.vstack([row, transformed_row]) for row, transformed_row in zip(matrix, transformed_matrix_z)])\n",
    "\n",
    "    # Apply the second transformation (add 0.5 to the first and second columns)\n",
    "    def second_transformation(row):\n",
    "        new_row = np.copy(row)\n",
    "        new_row[0] += 0.5  # Adjusted index for mixed type\n",
    "        new_row[1] += 0.5  # Adjusted index for mixed type\n",
    "        return new_row\n",
    "\n",
    "    intertwined_matrix_xy = np.vstack([np.vstack([row, second_transformation(row)]) for row in intertwined_matrix_z])\n",
    "    intertwined_matrix_xy = intertwined_matrix_z%1\n",
    "    return intertwined_matrix_xy\n",
    "\n",
    "\n",
    "def expand_positions(data_str):\n",
    "    result, result_labeled = transformation(data_str)\n",
    "\n",
    "    label_to_data = {}\n",
    "\n",
    "    for row in result_labeled:\n",
    "        elements = row\n",
    "        label = elements[0]  # Extract label\n",
    "        numerical_values = list(map(float, elements[1:]))  # Convert remaining elements to floats\n",
    "        # Add numerical data to corresponding label list\n",
    "        if label in label_to_data:\n",
    "            label_to_data[label].append(numerical_values)\n",
    "        else:\n",
    "            label_to_data[label] = [numerical_values]\n",
    "\n",
    "    # Print unique labels\n",
    "    print(\"Unique Labels:\", label_to_data.keys())\n",
    "\n",
    "\n",
    "    # Apply the transformation and intertwine the rows\n",
    "    unlabled_positions = np.vstack([shifting(label_to_data[lables]) for lables in label_to_data.keys()])\n",
    "\n",
    "\n",
    "    # Apply the transformation and intertwine the rows\n",
    "    transformed_arrays = []\n",
    "    for label in label_to_data.keys():\n",
    "        transformed_data = shifting(label_to_data[label])\n",
    "\n",
    "        # Prepend each row with the label\n",
    "        labeled_data = np.hstack([[[label]] * transformed_data.shape[0], transformed_data])  # Repeat label for each row\n",
    "        transformed_arrays.append(labeled_data)\n",
    "\n",
    "    # Stack the transformed arrays vertically\n",
    "    labled_positions = np.vstack(transformed_arrays)\n",
    "\n",
    "    # Convert the matrix to a string in the desired format\n",
    "    formatted_num = matrix_to_string(unlabled_positions)\n",
    "    print(formatted_num)\n",
    "    return unlabled_positions, labled_positions"
   ]
  },
  {
   "cell_type": "code",
   "execution_count": 6,
   "metadata": {},
   "outputs": [
    {
     "name": "stdout",
     "output_type": "stream",
     "text": [
      "3.8280824710192780 0.0000000000000000 0.0000000000000000\n",
      "0.0000000000000000 3.8280824710192780 0.0000000000000000\n",
      "0.0000000000000000 0.0000000000000000 21.8882663448433803\n"
     ]
    }
   ],
   "source": [
    "# Input data as a multiline string\n",
    "NaNNO_prim_lattice = \"\"\"\n",
    "3.8280824710192780    0.0000000000000000    0.0000000000000000\n",
    "0.0000000000000000    3.8280824710192780    0.0000000000000000\n",
    "0.0000000000000000    0.0000000000000000   10.9441331724216901\n",
    "\"\"\"\n",
    "NaNNO_super_lattice = cell_expand(NaNNO_prim_lattice)"
   ]
  },
  {
   "cell_type": "code",
   "execution_count": 25,
   "metadata": {},
   "outputs": [
    {
     "name": "stdout",
     "output_type": "stream",
     "text": [
      "Unique Labels: dict_keys(['Na', 'Nd', 'Nb', 'O'])\n",
      "0.5000000000000000 0.5000000000000000 0.0000000000000000\n",
      "0.5000000000000000 0.5000000000000000 0.5000000000000000\n",
      "0.5000000000000000 0.5000000000000000 0.2500000000000000\n",
      "0.5000000000000000 0.5000000000000000 0.7500000000000000\n",
      "0.0000000000000000 0.0000000000000000 0.1467673582536513\n",
      "0.0000000000000000 0.0000000000000000 0.6467673582536513\n",
      "0.0000000000000000 0.0000000000000000 0.3532326417463487\n",
      "0.0000000000000000 0.0000000000000000 0.8532326417463487\n",
      "0.0000000000000000 0.0000000000000000 0.2500000000000000\n",
      "0.0000000000000000 0.0000000000000000 0.7500000000000000\n",
      "0.5000000000000000 0.0000000000000000 0.3322697222336366\n",
      "0.5000000000000000 0.0000000000000000 0.8322697222336366\n",
      "0.0000000000000000 0.5000000000000000 0.3322697222336366\n",
      "0.0000000000000000 0.5000000000000000 0.8322697222336366\n",
      "0.0000000000000000 0.5000000000000000 0.1677302627663622\n",
      "0.0000000000000000 0.5000000000000000 0.6677302627663622\n",
      "0.5000000000000000 0.0000000000000000 0.1677302627663622\n",
      "0.5000000000000000 0.0000000000000000 0.6677302627663622\n",
      "0.0000000000000000 0.0000000000000000 0.0649943410521913\n",
      "0.0000000000000000 0.0000000000000000 0.5649943410521914\n",
      "0.0000000000000000 0.0000000000000000 0.4350056589478086\n",
      "0.0000000000000000 0.0000000000000000 0.9350056589478086\n"
     ]
    }
   ],
   "source": [
    "# Input data as a multiline string, including labels\n",
    "NaNNO_prim_positions = \"\"\"\n",
    "Na  0.5000000000000000  0.5000000000000000  0.0000000000000000\n",
    "Nd  0.5000000000000000  0.5000000000000000  0.5000000000000000\n",
    "Nb  0.0000000000000000  0.0000000000000000  0.2935347165073026\n",
    "Nb  0.0000000000000000  0.0000000000000000  0.7064652834926974\n",
    "O  0.0000000000000000  0.0000000000000000  0.5000000000000000\n",
    "O  0.5000000000000000  0.0000000000000000  0.6645394444672732\n",
    "O  0.0000000000000000  0.5000000000000000  0.6645394444672732\n",
    "O  0.0000000000000000  0.5000000000000000  0.3354605255327243\n",
    "O  0.5000000000000000  0.0000000000000000  0.3354605255327243\n",
    "O  0.0000000000000000  0.0000000000000000  0.1299886821043827\n",
    "O  0.0000000000000000  0.0000000000000000  0.8700113178956173\n",
    "\"\"\"\n",
    "\n",
    "NaNNO_super_unlabled_positions, NaNNO_super_labled_positions = expand_positions(NaNNO_prim_positions)"
   ]
  },
  {
   "cell_type": "code",
   "execution_count": 26,
   "metadata": {},
   "outputs": [
    {
     "name": "stdout",
     "output_type": "stream",
     "text": [
      "0.5000000000000000 0.5000000000000000 0.0000000000000000\n",
      "0.0000000000000000 0.0000000000000000 0.5000000000000000\n",
      "0.5000000000000000 0.5000000000000000 0.2500000000000000\n",
      "0.0000000000000000 0.0000000000000000 0.7500000000000000\n",
      "0.0000000000000000 0.0000000000000000 0.1467673582536513\n",
      "0.5000000000000000 0.5000000000000000 0.6467673582536513\n",
      "0.0000000000000000 0.0000000000000000 0.3532326417463487\n",
      "0.5000000000000000 0.5000000000000000 0.8532326417463487\n",
      "0.0000000000000000 0.0000000000000000 0.2500000000000000\n",
      "0.5000000000000000 0.5000000000000000 0.7500000000000000\n",
      "0.5000000000000000 0.0000000000000000 0.3322697222336366\n",
      "0.0000000000000000 0.5000000000000000 0.8322697222336366\n",
      "0.0000000000000000 0.5000000000000000 0.3322697222336366\n",
      "0.5000000000000000 0.0000000000000000 0.8322697222336366\n",
      "0.0000000000000000 0.5000000000000000 0.1677302627663622\n",
      "0.5000000000000000 0.0000000000000000 0.6677302627663622\n",
      "0.5000000000000000 0.0000000000000000 0.1677302627663622\n",
      "0.0000000000000000 0.5000000000000000 0.6677302627663622\n",
      "0.0000000000000000 0.0000000000000000 0.0649943410521913\n",
      "0.5000000000000000 0.5000000000000000 0.5649943410521914\n",
      "0.0000000000000000 0.0000000000000000 0.4350056589478086\n",
      "0.5000000000000000 0.5000000000000000 0.9350056589478086 \n",
      "\n"
     ]
    }
   ],
   "source": [
    "def transform_array(arr):\n",
    "    # Ensure the input is a 3xN array\n",
    "    if arr.shape[1] != 3:\n",
    "        raise ValueError(\"Input array must have 3 rows\")\n",
    "\n",
    "    # Find columns where the value in the third column is greater than 0.5\n",
    "    condition = arr[:, 2] > 0.48\n",
    "\n",
    "    # Add 0.5 to the values in the first column for the selected rows\n",
    "    arr[condition,0] += 0.5\n",
    "    arr[condition,1] += 0.5\n",
    "\n",
    "    # Apply modulus 1 to all values in the first column\n",
    "    arr[:, 0] %= 1\n",
    "    arr[:, 1] %= 1\n",
    "\n",
    "    return arr\n",
    "\n",
    "NaNNO_Cmcm =matrix_to_string(transform_array(NaNNO_super_unlabled_positions))\n",
    "print(NaNNO_Cmcm, \"\\n\")"
   ]
  },
  {
   "cell_type": "code",
   "execution_count": null,
   "metadata": {},
   "outputs": [],
   "source": []
  }
 ],
 "metadata": {
  "kernelspec": {
   "display_name": "base",
   "language": "python",
   "name": "python3"
  },
  "language_info": {
   "codemirror_mode": {
    "name": "ipython",
    "version": 3
   },
   "file_extension": ".py",
   "mimetype": "text/x-python",
   "name": "python",
   "nbconvert_exporter": "python",
   "pygments_lexer": "ipython3",
   "version": "3.1.undefined"
  }
 },
 "nbformat": 4,
 "nbformat_minor": 2
}
